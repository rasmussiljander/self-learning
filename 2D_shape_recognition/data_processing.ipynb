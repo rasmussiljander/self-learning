{
 "cells": [
  {
   "cell_type": "markdown",
   "metadata": {},
   "source": [
    "This notebook is for the exploration and preprocessing of the data used in the shape classification task of this project. First, the data is loaded and explored, including visualizing example shapes. Next, excess data is discarded, and the training validation datasets are constructed by loading the images, scaling them and splitting them into training and validation sets. Similarly, ground truth labels are extracted and one-hot encoded for CNN use. "
   ]
  },
  {
   "cell_type": "markdown",
   "metadata": {},
   "source": [
    "### Imports"
   ]
  },
  {
   "cell_type": "code",
   "execution_count": 1,
   "metadata": {},
   "outputs": [],
   "source": [
    "from PIL import Image\n",
    "import numpy as np\n",
    "import pandas as pd\n",
    "from pathlib import Path\n",
    "import matplotlib.pyplot as plt\n",
    "from tqdm.auto import tqdm\n",
    "from sklearn.model_selection import train_test_split\n",
    "from sklearn.preprocessing import LabelEncoder, OneHotEncoder\n",
    "import seaborn as sns\n",
    "\n",
    "sns.set_theme()"
   ]
  },
  {
   "cell_type": "markdown",
   "metadata": {},
   "source": [
    "## Data Exploration\n",
    "\n",
    "Data is loaded from this paper: https://www.sciencedirect.com/science/article/pii/S2352340920309847 . The data should be already clean and \"trustworthy\" for modeling. Hence, we should be able to do minimal processing to make it appropriate."
   ]
  },
  {
   "cell_type": "code",
   "execution_count": 2,
   "metadata": {},
   "outputs": [
    {
     "name": "stdout",
     "output_type": "stream",
     "text": [
      "Number of images found: 90000\n",
      "Example files\n",
      "data/shapes/Nonagon_fb1f8b2e-2a8d-11ea-8123-8363a7ec19e6.png\n",
      "data/shapes/Hexagon_95d6bf6e-2a95-11ea-8123-8363a7ec19e6.png\n",
      "data/shapes/Square_037dc95e-2a91-11ea-8123-8363a7ec19e6.png\n",
      "data/shapes/Triangle_2f39dc38-2a94-11ea-8123-8363a7ec19e6.png\n",
      "data/shapes/Square_398778f2-2a9a-11ea-8123-8363a7ec19e6.png\n"
     ]
    }
   ],
   "source": [
    "# Number of files in the data/shapes\n",
    "image_files = list(Path('data/shapes').glob('*.png'))\n",
    "print('Number of images found:', len(image_files))\n",
    "\n",
    "# Print names of first five files\n",
    "print(\"Example files\")\n",
    "print('\\n'.join([str(x) for x in image_files[:5]]))"
   ]
  },
  {
   "cell_type": "markdown",
   "metadata": {},
   "source": [
    "It seems that the shape label is included the filename. We can also check this by visualizing the first shape in the data."
   ]
  },
  {
   "cell_type": "markdown",
   "metadata": {},
   "source": [
    "## Test image\n",
    "\n",
    "Below is an example of what an image in the dataset looks like"
   ]
  },
  {
   "cell_type": "code",
   "execution_count": 3,
   "metadata": {},
   "outputs": [
    {
     "name": "stdout",
     "output_type": "stream",
     "text": [
      "Shape: Hexagon\n"
     ]
    },
    {
     "data": {
      "image/jpeg": "[encoded data removed]",
      "image/png": "[encoded data removed]",
      "text/plain": [
       "<PIL.PngImagePlugin.PngImageFile image mode=RGB size=200x200>"
      ]
     },
     "execution_count": 3,
     "metadata": {},
     "output_type": "execute_result"
    }
   ],
   "source": [
    "\n",
    "# Load the first image from data/shapes\n",
    "first_img = image_files[1]\n",
    "\n",
    "# Get the label from the filename\n",
    "label = first_img.parts[-1].split(\"_\")[0]\n",
    "\n",
    "print(f\"Shape: {label}\")\n",
    "image = Image.open(first_img)\n",
    "image"
   ]
  },
  {
   "cell_type": "markdown",
   "metadata": {},
   "source": [
    "The image seems to be a color image (with 3 channels). This can be confirmed by checking the shape of the array"
   ]
  },
  {
   "cell_type": "code",
   "execution_count": 4,
   "metadata": {},
   "outputs": [
    {
     "data": {
      "text/plain": [
       "(200, 200, 3)"
      ]
     },
     "execution_count": 4,
     "metadata": {},
     "output_type": "execute_result"
    }
   ],
   "source": [
    "np.array(image).shape"
   ]
  },
  {
   "cell_type": "markdown",
   "metadata": {},
   "source": [
    "The images seem to be in a simple 200 x 200 shape. We dont need the colorscale for classifying simple images, so we could simply convert the images to grayscale. The interesting thing in terms of modeling is that the shapes come in different background colors, meaning that the \"non-shape\" area wont always be white by default. However, this shouldnt eventually prove to be any problem since the model should anyways catch the shape differences."
   ]
  },
  {
   "cell_type": "markdown",
   "metadata": {},
   "source": [
    "From the top of the notebook we saw that there were several different shapes in the dataset."
   ]
  },
  {
   "cell_type": "code",
   "execution_count": 5,
   "metadata": {},
   "outputs": [
    {
     "name": "stdout",
     "output_type": "stream",
     "text": [
      "['Circle' 'Heptagon' 'Hexagon' 'Nonagon' 'Octagon' 'Pentagon' 'Square'\n",
      " 'Star' 'Triangle']\n",
      "Number of unique elements: 9\n"
     ]
    }
   ],
   "source": [
    "# Get filenames from image files\n",
    "filenames = [Path(file).name.split('_')[0] for file in image_files]\n",
    "unique_labels = np.unique(filenames)\n",
    "print(unique_labels)\n",
    "print(f\"Number of unique elements: {len(unique_labels)}\")\n"
   ]
  },
  {
   "cell_type": "markdown",
   "metadata": {},
   "source": [
    "In fact, there are 9 unique shapes in the dataset. We do not need all of these shapes for this tutorial task, as we can show a similar mechanism with a smaller number of shapes. Furhter, the network should be easier and faster to train as well. To keep the task a multi-class classification, lets choose three shapes, to model, the circle, square, and triangle. They should be distinct to each other (compared to e.g. heptagon, nonagon), and hence easier to classify. \n",
    "\n",
    "*Again note that the purpose of this notebook is not to display high levels of neural net capabilities, but instead, serve as a learning opportunity to show understanding of good data and ML practices.*\n"
   ]
  },
  {
   "cell_type": "markdown",
   "metadata": {},
   "source": [
    "## Preprocessing\n",
    "\n",
    "First we will filter out files that do not contain circles, squares, or triangles"
   ]
  },
  {
   "cell_type": "code",
   "execution_count": 6,
   "metadata": {},
   "outputs": [
    {
     "data": {
      "text/plain": [
       "[PosixPath('data/shapes/Square_037dc95e-2a91-11ea-8123-8363a7ec19e6.png'),\n",
       " PosixPath('data/shapes/Triangle_2f39dc38-2a94-11ea-8123-8363a7ec19e6.png')]"
      ]
     },
     "execution_count": 6,
     "metadata": {},
     "output_type": "execute_result"
    }
   ],
   "source": [
    "filtered_files = [file for file in image_files if file.name.startswith((\"Circle\", \"Triangle\", \"Square\"))]\n",
    "filtered_files[:2]"
   ]
  },
  {
   "cell_type": "markdown",
   "metadata": {},
   "source": [
    "\n",
    "\n",
    "Next we automate the similar processing for all of the images and save them for later training. In the loop below we load the image, extract its label, convert it to a grayscale image, and normalize it to be between 0 and 1.\n",
    "\n",
    "The dataset is very large (90 000 images), but 10000 should be enough for our purpose."
   ]
  },
  {
   "cell_type": "code",
   "execution_count": 7,
   "metadata": {},
   "outputs": [
    {
     "data": {
      "application/vnd.jupyter.widget-view+json": {
       "model_id": "1aa90e3ea66d45beb61b55739c0cad7d",
       "version_major": 2,
       "version_minor": 0
      },
      "text/plain": [
       "  0%|          | 0/30000 [00:00<?, ?it/s]"
      ]
     },
     "metadata": {},
     "output_type": "display_data"
    }
   ],
   "source": [
    "\n",
    "data_folder = \"data/\"\n",
    "label_list = []\n",
    "img_list = []\n",
    "\n",
    "for file_name in tqdm(filtered_files):\n",
    "    # Get shape label\n",
    "    label = Path(file_name).name.split('_')[0]\n",
    "    label_list.append(label)\n",
    "\n",
    "    # Get image\n",
    "    image = Image.open(file_name)\n",
    "    image = np.array(image) / 255.0\n",
    "    img_list.append(image)\n",
    "\n",
    "img_list = np.array(img_list)\n",
    "label_list = np.array(label_list)\n"
   ]
  },
  {
   "cell_type": "code",
   "execution_count": 8,
   "metadata": {},
   "outputs": [
    {
     "data": {
      "text/plain": [
       "(30000, 200, 200, 3)"
      ]
     },
     "execution_count": 8,
     "metadata": {},
     "output_type": "execute_result"
    }
   ],
   "source": [
    "label_list.shape\n",
    "img_list.shape"
   ]
  },
  {
   "cell_type": "markdown",
   "metadata": {},
   "source": [
    "Lets also encode the labels: Currently they are string-categories, but for them to be understood by the model, they should be one-hot encoded (the output of the CNN is a vector showing the activation of each shape)."
   ]
  },
  {
   "cell_type": "code",
   "execution_count": 9,
   "metadata": {},
   "outputs": [
    {
     "name": "stderr",
     "output_type": "stream",
     "text": [
      "/Users/rasmus.siljander/opt/anaconda3/envs/shape_recognition/lib/python3.10/site-packages/sklearn/preprocessing/_encoders.py:975: FutureWarning: `sparse` was renamed to `sparse_output` in version 1.2 and will be removed in 1.4. `sparse_output` is ignored unless you leave `sparse` to its default value.\n",
      "  warnings.warn(\n"
     ]
    },
    {
     "data": {
      "text/plain": [
       "array([[0., 1., 0.],\n",
       "       [0., 0., 1.],\n",
       "       [0., 1., 0.]])"
      ]
     },
     "execution_count": 9,
     "metadata": {},
     "output_type": "execute_result"
    }
   ],
   "source": [
    "label_encoder = LabelEncoder()\n",
    "labels_encoded = label_encoder.fit_transform(label_list)\n",
    "\n",
    "onehot_encoder = OneHotEncoder(sparse=False)\n",
    "labels_encoded = onehot_encoder.fit_transform(labels_encoded.reshape(-1, 1))\n",
    "labels_encoded[:3]"
   ]
  },
  {
   "cell_type": "markdown",
   "metadata": {},
   "source": [
    "Finally, lets split the data and save them for later training. The file type of choice is the numpy internal tensor format, `.npy`, which was tested as it was a new file extension to me."
   ]
  },
  {
   "cell_type": "code",
   "execution_count": 10,
   "metadata": {},
   "outputs": [
    {
     "name": "stdout",
     "output_type": "stream",
     "text": [
      "Train set size: 24000\n",
      "Test set size: 6000\n"
     ]
    }
   ],
   "source": [
    "# Split the data into train and test sets\n",
    "X_train, X_test, y_train, y_test = train_test_split(img_list, labels_encoded, test_size=0.2, random_state=42)\n",
    "\n",
    "# Print the sizes of the train and test sets\n",
    "print(\"Train set size:\", len(X_train))\n",
    "print(\"Test set size:\", len(X_test))\n"
   ]
  },
  {
   "cell_type": "code",
   "execution_count": 11,
   "metadata": {},
   "outputs": [],
   "source": [
    "# Create folder data/processed with pathlib\n",
    "processed_folder = Path(\"data\") / \"processed\"\n",
    "processed_folder.mkdir(parents=True, exist_ok=True)\n",
    "\n",
    "# Save results to processed folder\n",
    "np.save(processed_folder / 'X_train.npy', X_train)\n",
    "np.save(processed_folder / 'X_test.npy', X_test)\n",
    "np.save(processed_folder / 'y_train.npy', y_train)\n",
    "np.save(processed_folder / 'y_test.npy', y_test)\n"
   ]
  },
  {
   "cell_type": "markdown",
   "metadata": {},
   "source": [
    "Before moving on, lets visualize the class frequencies and test the data to ensure that the processing was correct"
   ]
  },
  {
   "cell_type": "code",
   "execution_count": 12,
   "metadata": {},
   "outputs": [
    {
     "data": {
      "text/plain": [
       "array([2, 2, 2, ..., 1, 2, 1])"
      ]
     },
     "execution_count": 12,
     "metadata": {},
     "output_type": "execute_result"
    }
   ],
   "source": [
    "np.argmax(y_train, axis=1)"
   ]
  },
  {
   "cell_type": "code",
   "execution_count": 13,
   "metadata": {},
   "outputs": [
    {
     "data": {
      "text/plain": [
       "<Axes: >"
      ]
     },
     "execution_count": 13,
     "metadata": {},
     "output_type": "execute_result"
    },
    {
     "data": {
      "image/png": "[encoded data removed]",
      "text/plain": [
       "<Figure size 800x400 with 2 Axes>"
      ]
     },
     "metadata": {},
     "output_type": "display_data"
    }
   ],
   "source": [
    "shapes = [\"Circle\", \"Square\", \"Triangle\"]\n",
    "\n",
    "fig, axs = plt.subplots(1,2, figsize=(8,4))\n",
    "\n",
    "labels = pd.Series([shapes[i] for i in np.argmax(y_train, axis=1)])\n",
    "label_counts = labels.value_counts().sort_index()\n",
    "label_counts.plot(kind='bar', ax=axs[0])\n",
    "\n",
    "labels = pd.Series([shapes[i] for i in np.argmax(y_test, axis=1)])\n",
    "label_counts = labels.value_counts().sort_index()\n",
    "label_counts.plot(kind='bar', ax=axs[1])"
   ]
  },
  {
   "cell_type": "markdown",
   "metadata": {},
   "source": [
    "The distributions are slighty unbalanced, which might cause some slight issues in model performance during training. However, the distributions are not so drastic, and should be fine for the purpose of this tutorial model."
   ]
  },
  {
   "cell_type": "code",
   "execution_count": 14,
   "metadata": {},
   "outputs": [
    {
     "name": "stdout",
     "output_type": "stream",
     "text": [
      "[0. 0. 1.]\n"
     ]
    },
    {
     "data": {
      "image/png": "[encoded data removed]",
      "text/plain": [
       "<Figure size 640x480 with 1 Axes>"
      ]
     },
     "metadata": {},
     "output_type": "display_data"
    }
   ],
   "source": [
    "print(y_train[0])\n",
    "plt.imshow(X_train[0], cmap='gray')\n",
    "plt.axis('off')\n",
    "plt.show()\n"
   ]
  }
 ],
 "metadata": {
  "kernelspec": {
   "display_name": "shape_recognition",
   "language": "python",
   "name": "python3"
  },
  "language_info": {
   "codemirror_mode": {
    "name": "ipython",
    "version": 3
   },
   "file_extension": ".py",
   "mimetype": "text/x-python",
   "name": "python",
   "nbconvert_exporter": "python",
   "pygments_lexer": "ipython3",
   "version": "3.10.13"
  }
 },
 "nbformat": 4,
 "nbformat_minor": 2
}
