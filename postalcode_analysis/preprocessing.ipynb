{
 "cells": [
  {
   "cell_type": "code",
   "execution_count": null,
   "metadata": {},
   "outputs": [],
   "source": []
  }
 ],
 "metadata": {
  "kernelspec": {
   "display_name": "Python 3.11.7 ('aws_tutorial': venv)",
   "language": "python",
   "name": "python3"
  },
  "language_info": {
   "name": "python",
   "version": "3.11.7"
  },
  "orig_nbformat": 4,
  "vscode": {
   "interpreter": {
    "hash": "6602bb90c08de1b8765858fab32f0abb5a1596a039c26b36ea7ac94dc98b8d3f"
   }
  }
 },
 "nbformat": 4,
 "nbformat_minor": 2
}
